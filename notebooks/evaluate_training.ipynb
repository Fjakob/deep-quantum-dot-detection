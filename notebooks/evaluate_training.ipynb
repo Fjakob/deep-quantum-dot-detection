{
 "cells": [
  {
   "cell_type": "code",
   "execution_count": null,
   "metadata": {},
   "outputs": [],
   "source": [
    "import sys\n",
    "import os\n",
    "import glob\n",
    "import numpy as np\n",
    "import matplotlib.pyplot as plt\n",
    "import pickle\n",
    "\n",
    "os.chdir('..')\n",
    "sys.path.insert(0, '')"
   ]
  },
  {
   "cell_type": "code",
   "execution_count": null,
   "metadata": {},
   "outputs": [],
   "source": [
    "def readout_history(dim):\n",
    "    \"\"\" Reads out history\"\"\"\n",
    "\n",
    "    with open(f'reports/autoencoder_training_curves/train_history_{dim}.pickle', 'rb') as f:\n",
    "        train_history = pickle.load(f)\n",
    "\n",
    "    if len(train_history) == 2:\n",
    "        train_history = train_history[0]\n",
    "        # train_history[1] are epochs with learning rate schedule, not needed for plotting\n",
    "\n",
    "    losses = train_history\n",
    "\n",
    "    train_loss = np.asarray([loss[0] for loss in losses])*1024\n",
    "    test_loss =  np.asarray([loss[1] for loss in losses])*1024\n",
    "\n",
    "    return train_loss, test_loss"
   ]
  },
  {
   "cell_type": "code",
   "execution_count": null,
   "metadata": {},
   "outputs": [],
   "source": [
    "### Plot Training curves for different latent dimensions\n",
    "\n",
    "plt.figure(figsize=(10,5))\n",
    "\n",
    "for dim in [8, 16, 24, 32, 48, 64]:\n",
    "\n",
    "    train_loss, test_loss = readout_history(dim)\n",
    "    plt.subplot(1,2,1)\n",
    "    plt.plot(train_loss, label=f'{dim}')\n",
    "\n",
    "    plt.subplot(1,2,2)\n",
    "    plt.plot(test_loss, label=f'{dim}')\n",
    "\n",
    "plt.subplot(1,2,1)\n",
    "plt.ylim(0, 2)\n",
    "plt.grid()\n",
    "plt.legend()\n",
    "plt.xlabel('Epochs')\n",
    "plt.ylabel('Mean square error')\n",
    "\n",
    "plt.subplot(1,2,2)\n",
    "plt.ylim(0, 2)\n",
    "plt.grid()\n",
    "plt.legend()\n",
    "plt.xlabel('Epochs')\n"
   ]
  },
  {
   "cell_type": "code",
   "execution_count": null,
   "metadata": {},
   "outputs": [],
   "source": [
    "conv='24_conv'\n",
    "res='24_res'\n",
    "\n",
    "train_loss_conv, test_loss_conv = readout_history(conv)\n",
    "train_loss_res, test_loss_res = readout_history(res)\n",
    "\n",
    "plt.plot(train_loss_conv, 'b', label='conv train')\n",
    "plt.plot(train_loss_res, 'r', label='res train')\n",
    "plt.plot(test_loss_conv, 'b--', label='conv test')\n",
    "plt.plot(test_loss_res, 'r--', label='res test')\n",
    "\n",
    "plt.ylim(0, 2)\n",
    "plt.grid()\n",
    "plt.legend()\n",
    "plt.xlabel('Epochs')\n",
    "plt.ylabel('Mean square error')"
   ]
  },
  {
   "cell_type": "code",
   "execution_count": null,
   "metadata": {},
   "outputs": [],
   "source": []
  }
 ],
 "metadata": {
  "kernelspec": {
   "display_name": "Python 3.10.8 64-bit (microsoft store)",
   "language": "python",
   "name": "python3"
  },
  "language_info": {
   "codemirror_mode": {
    "name": "ipython",
    "version": 3
   },
   "file_extension": ".py",
   "mimetype": "text/x-python",
   "name": "python",
   "nbconvert_exporter": "python",
   "pygments_lexer": "ipython3",
   "version": "3.10.9 (tags/v3.10.9:1dd9be6, Dec  6 2022, 20:01:21) [MSC v.1934 64 bit (AMD64)]"
  },
  "orig_nbformat": 4,
  "vscode": {
   "interpreter": {
    "hash": "770d094a551ac2ee51119be4a7b5fbc513b7711c9e3b59c0b2e0e70b799619a7"
   }
  }
 },
 "nbformat": 4,
 "nbformat_minor": 2
}
