{
 "cells": [
  {
   "cell_type": "markdown",
   "metadata": {},
   "source": [
    "Jupyter Notebook to train an evaluation neural network for the technological viability of a quantum dot.\n",
    "\n",
    "Specifically designed for *Google Colab*.\n",
    "\n",
    "Author: **Fabian Jakob**"
   ]
  },
  {
   "cell_type": "code",
   "execution_count": null,
   "metadata": {},
   "outputs": [],
   "source": [
    "import os\n",
    "import numpy as np\n",
    "import matplotlib.pyplot as plt\n",
    "import pickle\n",
    "import random as rnd\n",
    "from tqdm import tqdm\n",
    "\n",
    "import torch\n",
    "from torch import nn, optim, flatten, sigmoid\n",
    "from torch.utils.data import TensorDataset, random_split, DataLoader\n",
    "from torchsummary import summary"
   ]
  },
  {
   "cell_type": "markdown",
   "metadata": {},
   "source": []
  }
 ],
 "metadata": {
  "kernelspec": {
   "display_name": "Python 3.10.6 64-bit ('torch')",
   "language": "python",
   "name": "python3"
  },
  "language_info": {
   "name": "python",
   "version": "3.10.6"
  },
  "orig_nbformat": 4,
  "vscode": {
   "interpreter": {
    "hash": "57c892bcf38162059c333dc77197042dfcbccc775b2683f9df88cadab13b060b"
   }
  }
 },
 "nbformat": 4,
 "nbformat_minor": 2
}
