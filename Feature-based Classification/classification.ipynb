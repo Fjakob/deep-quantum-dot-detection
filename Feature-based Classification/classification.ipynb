{
 "cells": [
  {
   "cell_type": "code",
   "execution_count": 12,
   "id": "2a6c4be5",
   "metadata": {},
   "outputs": [],
   "source": [
    "# Standard libraries\n",
    "import numpy as np\n",
    "import matplotlib.pyplot as plt\n",
    "import os\n",
    "\n",
    "# Feature extraction\n",
    "from scipy.signal import peak_widths\n",
    "from scipy.stats import entropy\n",
    "from PeakDetection import OS_CFAR\n",
    "\n",
    "# Classifiers:\n",
    "from sklearn.neural_network import MLPClassifier\n",
    "from sklearn.neighbors import KNeighborsClassifier\n",
    "from sklearn.svm import LinearSVC, SVC\n",
    "from sklearn.gaussian_process import GaussianProcessClassifier\n",
    "from sklearn.gaussian_process.kernels import RBF\n",
    "from sklearn.tree import DecisionTreeClassifier\n",
    "from sklearn.ensemble import RandomForestClassifier, AdaBoostClassifier\n",
    "from sklearn.naive_bayes import GaussianNB\n",
    "from sklearn.discriminant_analysis import QuadraticDiscriminantAnalysis\n",
    "\n",
    "# For data preprocessing:\n",
    "from FeatureExtraction import loadDataSet\n",
    "from sklearn.model_selection import train_test_split\n",
    "from sklearn.preprocessing import StandardScaler\n",
    "\n",
    "# For visualization:\n",
    "from sklearn.inspection import DecisionBoundaryDisplay"
   ]
  },
  {
   "cell_type": "code",
   "execution_count": 103,
   "id": "28c08f4c",
   "metadata": {},
   "outputs": [],
   "source": [
    "methods = [\"kNN\",            # k nearest neighbors\n",
    "            \"RBF SVM\",       # support vector machine with gaussian kernel\n",
    "            \"GP\",            # Gaussian process\n",
    "            \"Decision Tree\", # decision tree\n",
    "            \"Random Forest\", # random forest\n",
    "            \"NN\",            # neural network\n",
    "            \"AdaBoost\",      # ensemble learning\n",
    "            \"NB\",            # naive bayer\n",
    "            \"QDA\"]           # quadratic discriminant analysis\n",
    "classifiers = [KNeighborsClassifier(4), # k nearest neighbours,\n",
    "               SVC(kernel=\"rbf\", decision_function_shape='ovo', gamma=2, C=1), # support vector machine with RBF kernel\n",
    "               GaussianProcessClassifier(1.0 * RBF(1.0)),\n",
    "               DecisionTreeClassifier(max_depth=5),\n",
    "               RandomForestClassifier(max_depth=5, n_estimators=10, max_features=1),\n",
    "               MLPClassifier(alpha=1, max_iter=1000),\n",
    "               AdaBoostClassifier(),\n",
    "               GaussianNB(),\n",
    "               QuadraticDiscriminantAnalysis()]        "
   ]
  },
  {
   "cell_type": "code",
   "execution_count": 65,
   "id": "6b66818a",
   "metadata": {},
   "outputs": [],
   "source": [
    "# Data Loading and Processing\n",
    "\n",
    "def loadDataSet(filename):\n",
    "    with open(filename, 'rb') as f:\n",
    "        dataSet = pickle.load(f)\n",
    "    for _, x, label in dataSet:\n",
    "        y = label[1]\n",
    "        try:\n",
    "            X = np.vstack((X, x))\n",
    "            Y = np.vstack((Y, y))\n",
    "        except(NameError):\n",
    "            X = x\n",
    "            Y = y\n",
    "    return X, Y\n",
    "\n",
    "def extractFeatures(x):\n",
    "    features = dict()\n",
    "    # Number of peaks, location of peaks:\n",
    "    peak_idx, n_peak, _ = OS_CFAR(x, N=200, T=7, N_protect=20)\n",
    "    features[\"N_peaks\"] = n_peak\n",
    "    # Entropy with white noise:\n",
    "    np.random.seed(1)\n",
    "    whiteNoise = np.random.normal(0.25, 2.52, size=1024)\n",
    "    #noiseCorr = entropy(0.5*(whiteNoise/np.max(np.abs(whiteNoise)))+1, 0.5*(x/np.max(np.abs(x)))+1)\n",
    "    #features[\"White Noise Entropy\"] = noiseCorr\n",
    "    if peak_idx:\n",
    "        peaks = np.sort(x[peak_idx])\n",
    "        # Width and distance among peaks:\n",
    "        widths = peak_widths(x, peak_idx, rel_height=0.7)\n",
    "        d_peaks = [abs(v - peak_idx[(i+1)%len(peak_idx)]) for i, v in enumerate(peak_idx)][:-1]\n",
    "        # Minimum distance:\n",
    "        if d_peaks:\n",
    "            d_min = np.min(d_peaks)\n",
    "        else:\n",
    "            d_min = 1024\n",
    "        features[\"d_min\"] = d_min\n",
    "        # Width of maximum peak:\n",
    "        w_maxPeak = widths[0][np.argmax(x[peak_idx])]\n",
    "        #features[\"w_maxPeak\"] = w_maxPeak\n",
    "        # Summed heights of non dominant peaks, normalized to maximum peak\n",
    "        if len(peaks)>1:\n",
    "            minorToMajor = np.mean(peaks[:-1]) / peaks[-1]\n",
    "        else:\n",
    "            minorToMajor = 0\n",
    "        #features[\"Minor To Major Peaks\"] = minorToMajor\n",
    "        # SNR or max value:\n",
    "        x_max = peaks[-1]\n",
    "        features[\"Max Peak height\"] = x_max\n",
    "    else:\n",
    "        pass\n",
    "        # No peaks existent\n",
    "        features[\"d_min\"] = 0\n",
    "        #features[\"w_maxPeak\"] = 1024\n",
    "        #features[\"Minor To Major Peaks\"] = 2\n",
    "        features[\"Max Peak height\"] = 0\n",
    "    return features\n",
    "\n",
    "def to_features(X):\n",
    "        for x in X:\n",
    "            v = np.asarray(list(extractFeatures(x).values()))\n",
    "            try:\n",
    "                V = np.vstack((V, v))\n",
    "            except(NameError):\n",
    "                V = v\n",
    "        return V\n",
    "    \n",
    "def plot_data(X, Y):\n",
    "    fig = plt.figure()\n",
    "    ax = fig.add_subplot(projection='3d')\n",
    "    ax.scatter(X[Y==2,0],X[Y==2,1],X[Y==2,2], label=\"Very good\")\n",
    "    ax.scatter(X[Y==1,0],X[Y==1,1], X[Y==1,2],label=\"Good\")\n",
    "    ax.scatter(X[Y==-1,0],X[Y==-1,1], X[Y==-1,2],label=\"Ok\")\n",
    "    ax.scatter(X[Y==-2,0],X[Y==-2,1], X[Y==-2,2],label=\"Bad\")\n",
    "    ax.legend()\n",
    "    ax.grid()\n",
    "    plt.show()"
   ]
  },
  {
   "cell_type": "code",
   "execution_count": null,
   "id": "e9727e3c",
   "metadata": {},
   "outputs": [],
   "source": [
    "# Data loading\n",
    "X, Y = loadDataSet('dataSet')\n",
    "Y = np.ravel(Y) #delete inner dimension\n",
    "\n",
    "V = to_features(X)"
   ]
  },
  {
   "cell_type": "code",
   "execution_count": 101,
   "id": "90614628",
   "metadata": {
    "scrolled": true
   },
   "outputs": [
    {
     "name": "stdout",
     "output_type": "stream",
     "text": [
      "Retrieved 212 training and 24 test data points\n"
     ]
    },
    {
     "data": {
      "image/png": "[encoded data removed]",
      "text/plain": [
       "<Figure size 432x288 with 1 Axes>"
      ]
     },
     "metadata": {
      "needs_background": "light"
     },
     "output_type": "display_data"
    }
   ],
   "source": [
    "# Splitting Data\n",
    "V_train, V_test, Y_train, Y_test = train_test_split(V, Y, test_size=0.1)\n",
    "\n",
    "print(\"Retrieved {} training and {} test data points\".format(len(Y_train),len(Y_test)))\n",
    "\n",
    "# Data Visualization (only for 3-dims)\n",
    "if V_test.shape[1] == 3:\n",
    "    plot_data(V_test, Y_test)"
   ]
  },
  {
   "cell_type": "code",
   "execution_count": 81,
   "id": "3debc90a",
   "metadata": {},
   "outputs": [
    {
     "name": "stdout",
     "output_type": "stream",
     "text": [
      "Retrieved 165 training and 71 test data points\n"
     ]
    }
   ],
   "source": [
    "# (Optional:) Data scaling\n",
    "\n",
    "scaler = StandardScaler()\n",
    "scaler.fit(V)\n",
    "scale, mean = scaler.scale_, scaler.mean_\n",
    "\n",
    "V_sc = scaler.transform(V)\n",
    "V_train, V_test, Y_train, Y_test = train_test_split(V_sc, Y, test_size=0.3)"
   ]
  },
  {
   "cell_type": "code",
   "execution_count": 105,
   "id": "71ef97dd",
   "metadata": {},
   "outputs": [
    {
     "name": "stdout",
     "output_type": "stream",
     "text": [
      "Train Accuracy: 0.8773584905660378\n",
      "Test Accuracy: 0.75\n"
     ]
    }
   ],
   "source": [
    "# Classification\n",
    "\n",
    "method = \"RBF SVM\"\n",
    "classifier = classifiers[methods.index(method)]\n",
    "\n",
    "# Train the model\n",
    "classifier.fit(V_train, Y_train)\n",
    "\n",
    "# Test the model\n",
    "score_train = classifier.score(V_train, Y_train)\n",
    "score_test  = classifier.score(V_test , Y_test)\n",
    "\n",
    "print(\"Train Accuracy: {0}\".format(score_train))\n",
    "print(\"Test Accuracy: {0}\".format(score_test))"
   ]
  },
  {
   "cell_type": "code",
   "execution_count": null,
   "id": "60aa6bc7",
   "metadata": {},
   "outputs": [],
   "source": []
  }
 ],
 "metadata": {
  "kernelspec": {
   "display_name": "Python 3 (ipykernel)",
   "language": "python",
   "name": "python3"
  },
  "language_info": {
   "codemirror_mode": {
    "name": "ipython",
    "version": 3
   },
   "file_extension": ".py",
   "mimetype": "text/x-python",
   "name": "python",
   "nbconvert_exporter": "python",
   "pygments_lexer": "ipython3",
   "version": "3.8.3"
  }
 },
 "nbformat": 4,
 "nbformat_minor": 5
}
